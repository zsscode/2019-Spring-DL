{
  "nbformat": 4,
  "nbformat_minor": 0,
  "metadata": {
    "colab": {
      "name": "Transfer_Learning_VGG16_for_CIFAR10.ipynb",
      "version": "0.3.2",
      "provenance": [],
      "collapsed_sections": [],
      "include_colab_link": true
    },
    "kernelspec": {
      "name": "python3",
      "display_name": "Python 3"
    },
    "accelerator": "GPU"
  },
  "cells": [
    {
      "cell_type": "markdown",
      "metadata": {
        "id": "view-in-github",
        "colab_type": "text"
      },
      "source": [
        "<a href=\"https://colab.research.google.com/github/badriadhikari/2019-Spring-DL/blob/master/course_content/module3_convnets/Transfer_Learning_VGG16_for_CIFAR10.ipynb\" target=\"_parent\"><img src=\"https://colab.research.google.com/assets/colab-badge.svg\" alt=\"Open In Colab\"/></a>"
      ]
    },
    {
      "metadata": {
        "id": "JbGmNmiBuW0Y",
        "colab_type": "text"
      },
      "cell_type": "markdown",
      "source": [
        "# Using the VGG16 Convolutional Base for CIFAR-10 Dataset"
      ]
    },
    {
      "metadata": {
        "id": "ZaBMlgYLqvIL",
        "colab_type": "text"
      },
      "cell_type": "markdown",
      "source": [
        "### The CIFAR-10 Dataset  \n",
        "* The CIFAR-10 dataset (Canadian Institute For Advanced Research) is a collection of images that are commonly used to train machine learning and computer vision algorithms  \n",
        "* It is one of the most widely used datasets for machine learning research  \n",
        "* The CIFAR-10 dataset contains 60,000 32x32 color images in 10 different classes  \n",
        "* The 10 different classes represent airplanes, cars, birds, cats, deer, dogs, frogs, horses, ships, and trucks  \n",
        "* There are 6,000 images of each class  "
      ]
    },
    {
      "metadata": {
        "id": "SEErJJgYEtnh",
        "colab_type": "code",
        "colab": {
          "base_uri": "https://localhost:8080/",
          "height": 34
        },
        "outputId": "b7ff8768-a1b3-4564-86af-15cd9fae8781"
      },
      "cell_type": "code",
      "source": [
        "from keras.datasets import cifar10\n",
        "(x_train, y_train), (x_test, y_test) = cifar10.load_data()"
      ],
      "execution_count": 1,
      "outputs": [
        {
          "output_type": "stream",
          "text": [
            "Using TensorFlow backend.\n"
          ],
          "name": "stderr"
        }
      ]
    },
    {
      "metadata": {
        "id": "jXwNsoCeGsqd",
        "colab_type": "code",
        "outputId": "ca106f2a-5bd9-4bf5-ef5f-4f0617715ffe",
        "colab": {
          "base_uri": "https://localhost:8080/",
          "height": 85
        }
      },
      "cell_type": "code",
      "source": [
        "print(x_train.shape)\n",
        "print(y_train.shape)\n",
        "print(x_test.shape)\n",
        "print(y_test.shape)"
      ],
      "execution_count": 2,
      "outputs": [
        {
          "output_type": "stream",
          "text": [
            "(50000, 32, 32, 3)\n",
            "(50000, 1)\n",
            "(10000, 32, 32, 3)\n",
            "(10000, 1)\n"
          ],
          "name": "stdout"
        }
      ]
    },
    {
      "metadata": {
        "id": "3u-CPlr4ReZT",
        "colab_type": "code",
        "outputId": "7ed93a53-a574-4625-a088-2cbe4167006f",
        "colab": {
          "base_uri": "https://localhost:8080/",
          "height": 286
        }
      },
      "cell_type": "code",
      "source": [
        "import matplotlib.pyplot as plt\n",
        "plt.imshow(x_train[4])"
      ],
      "execution_count": 3,
      "outputs": [
        {
          "output_type": "execute_result",
          "data": {
            "text/plain": [
              "<matplotlib.image.AxesImage at 0x7f425e644be0>"
            ]
          },
          "metadata": {
            "tags": []
          },
          "execution_count": 3
        },
        {
          "output_type": "display_data",
          "data": {
            "image/png": "[encoded data removed]",
            "text/plain": [
              "<Figure size 432x288 with 1 Axes>"
            ]
          },
          "metadata": {
            "tags": []
          }
        }
      ]
    },
    {
      "metadata": {
        "id": "sDCyKGSRE6BL",
        "colab_type": "code",
        "outputId": "d7791534-55b5-4954-d5ee-cdf691d52755",
        "colab": {
          "base_uri": "https://localhost:8080/",
          "height": 51
        }
      },
      "cell_type": "code",
      "source": [
        "from keras.utils import to_categorical\n",
        "train_labels = to_categorical( y_train )\n",
        "test_labels = to_categorical( y_test )\n",
        "print(train_labels.shape)\n",
        "print(test_labels.shape)"
      ],
      "execution_count": 4,
      "outputs": [
        {
          "output_type": "stream",
          "text": [
            "(50000, 10)\n",
            "(10000, 10)\n"
          ],
          "name": "stdout"
        }
      ]
    },
    {
      "metadata": {
        "id": "9K--qRATt2A1",
        "colab_type": "text"
      },
      "cell_type": "markdown",
      "source": [
        "## Method1: Develop our own ConvNet\n",
        "\n"
      ]
    },
    {
      "metadata": {
        "id": "DnZ8C1E3RY6B",
        "colab_type": "code",
        "colab": {
          "base_uri": "https://localhost:8080/",
          "height": 343
        },
        "outputId": "532428df-e752-4924-fb2e-67523c7184e2"
      },
      "cell_type": "code",
      "source": [
        "from keras import models\n",
        "from keras import layers\n",
        "from keras import optimizers\n",
        "\n",
        "model = models.Sequential()\n",
        "model.add( layers.Conv2D( 16, ( 3, 3 ), activation = 'sigmoid', input_shape = x_train[0, :, :, :].shape ) )\n",
        "model.add( layers.Conv2D( 4, ( 3, 3 ), activation = 'sigmoid' ) )\n",
        "model.add( layers.Flatten() )\n",
        "model.add( layers.Dense( 10, activation = 'softmax' ) )\n",
        "model.summary()"
      ],
      "execution_count": 5,
      "outputs": [
        {
          "output_type": "stream",
          "text": [
            "WARNING:tensorflow:From /usr/local/lib/python3.6/dist-packages/tensorflow/python/framework/op_def_library.py:263: colocate_with (from tensorflow.python.framework.ops) is deprecated and will be removed in a future version.\n",
            "Instructions for updating:\n",
            "Colocations handled automatically by placer.\n",
            "_________________________________________________________________\n",
            "Layer (type)                 Output Shape              Param #   \n",
            "=================================================================\n",
            "conv2d_1 (Conv2D)            (None, 30, 30, 16)        448       \n",
            "_________________________________________________________________\n",
            "conv2d_2 (Conv2D)            (None, 28, 28, 4)         580       \n",
            "_________________________________________________________________\n",
            "flatten_1 (Flatten)          (None, 3136)              0         \n",
            "_________________________________________________________________\n",
            "dense_1 (Dense)              (None, 10)                31370     \n",
            "=================================================================\n",
            "Total params: 32,398\n",
            "Trainable params: 32,398\n",
            "Non-trainable params: 0\n",
            "_________________________________________________________________\n"
          ],
          "name": "stdout"
        }
      ]
    },
    {
      "metadata": {
        "id": "u8qfIpG2s0NL",
        "colab_type": "code",
        "colab": {
          "base_uri": "https://localhost:8080/",
          "height": 2261
        },
        "outputId": "d62ab4f1-efa7-4ee9-ee52-fad74bd28df8"
      },
      "cell_type": "code",
      "source": [
        "model.compile( optimizer = 'rmsprop', loss = 'categorical_crossentropy', metrics = [ 'accuracy' ] )\n",
        "history = model.fit( x_train, train_labels, epochs = 64, batch_size = 128, validation_data = (x_test, test_labels))"
      ],
      "execution_count": 6,
      "outputs": [
        {
          "output_type": "stream",
          "text": [
            "WARNING:tensorflow:From /usr/local/lib/python3.6/dist-packages/tensorflow/python/ops/math_ops.py:3066: to_int32 (from tensorflow.python.ops.math_ops) is deprecated and will be removed in a future version.\n",
            "Instructions for updating:\n",
            "Use tf.cast instead.\n",
            "Train on 50000 samples, validate on 10000 samples\n",
            "Epoch 1/64\n",
            "50000/50000 [==============================] - 5s 100us/step - loss: 1.9294 - acc: 0.3037 - val_loss: 1.7168 - val_acc: 0.3782\n",
            "Epoch 2/64\n",
            "50000/50000 [==============================] - 2s 49us/step - loss: 1.6597 - acc: 0.4137 - val_loss: 1.5850 - val_acc: 0.4374\n",
            "Epoch 3/64\n",
            "50000/50000 [==============================] - 2s 49us/step - loss: 1.5862 - acc: 0.4416 - val_loss: 1.5229 - val_acc: 0.4573\n",
            "Epoch 4/64\n",
            "50000/50000 [==============================] - 3s 50us/step - loss: 1.5367 - acc: 0.4577 - val_loss: 1.5397 - val_acc: 0.4571\n",
            "Epoch 5/64\n",
            "50000/50000 [==============================] - 2s 50us/step - loss: 1.4961 - acc: 0.4746 - val_loss: 1.5125 - val_acc: 0.4612\n",
            "Epoch 6/64\n",
            "50000/50000 [==============================] - 2s 50us/step - loss: 1.4693 - acc: 0.4842 - val_loss: 1.4588 - val_acc: 0.4846\n",
            "Epoch 7/64\n",
            "50000/50000 [==============================] - 2s 50us/step - loss: 1.4378 - acc: 0.4953 - val_loss: 1.4997 - val_acc: 0.4656\n",
            "Epoch 8/64\n",
            "50000/50000 [==============================] - 2s 49us/step - loss: 1.4158 - acc: 0.5021 - val_loss: 1.4435 - val_acc: 0.4878\n",
            "Epoch 9/64\n",
            "50000/50000 [==============================] - 2s 50us/step - loss: 1.3895 - acc: 0.5118 - val_loss: 1.4247 - val_acc: 0.4877\n",
            "Epoch 10/64\n",
            "50000/50000 [==============================] - 2s 50us/step - loss: 1.3693 - acc: 0.5166 - val_loss: 1.5337 - val_acc: 0.4675\n",
            "Epoch 11/64\n",
            "50000/50000 [==============================] - 3s 50us/step - loss: 1.3521 - acc: 0.5239 - val_loss: 1.4501 - val_acc: 0.4876\n",
            "Epoch 12/64\n",
            "50000/50000 [==============================] - 2s 49us/step - loss: 1.3350 - acc: 0.5335 - val_loss: 1.3785 - val_acc: 0.5067\n",
            "Epoch 13/64\n",
            "50000/50000 [==============================] - 2s 49us/step - loss: 1.3147 - acc: 0.5408 - val_loss: 1.4547 - val_acc: 0.4908\n",
            "Epoch 14/64\n",
            "50000/50000 [==============================] - 3s 50us/step - loss: 1.3002 - acc: 0.5453 - val_loss: 1.3887 - val_acc: 0.5062\n",
            "Epoch 15/64\n",
            "50000/50000 [==============================] - 3s 50us/step - loss: 1.2844 - acc: 0.5479 - val_loss: 1.3889 - val_acc: 0.5121\n",
            "Epoch 16/64\n",
            "50000/50000 [==============================] - 3s 51us/step - loss: 1.2693 - acc: 0.5567 - val_loss: 1.3428 - val_acc: 0.5194\n",
            "Epoch 17/64\n",
            "50000/50000 [==============================] - 2s 50us/step - loss: 1.2602 - acc: 0.5559 - val_loss: 1.3617 - val_acc: 0.5197\n",
            "Epoch 18/64\n",
            "50000/50000 [==============================] - 2s 50us/step - loss: 1.2521 - acc: 0.5617 - val_loss: 1.3835 - val_acc: 0.5101\n",
            "Epoch 19/64\n",
            "50000/50000 [==============================] - 3s 50us/step - loss: 1.2369 - acc: 0.5678 - val_loss: 1.6107 - val_acc: 0.4564\n",
            "Epoch 20/64\n",
            "50000/50000 [==============================] - 3s 56us/step - loss: 1.2340 - acc: 0.5674 - val_loss: 1.3474 - val_acc: 0.5227\n",
            "Epoch 21/64\n",
            "50000/50000 [==============================] - 3s 57us/step - loss: 1.2189 - acc: 0.5739 - val_loss: 1.3279 - val_acc: 0.5307\n",
            "Epoch 22/64\n",
            "50000/50000 [==============================] - 3s 58us/step - loss: 1.2098 - acc: 0.5771 - val_loss: 1.4041 - val_acc: 0.5127\n",
            "Epoch 23/64\n",
            "50000/50000 [==============================] - 3s 53us/step - loss: 1.2021 - acc: 0.5777 - val_loss: 1.3474 - val_acc: 0.5262\n",
            "Epoch 24/64\n",
            "50000/50000 [==============================] - 3s 50us/step - loss: 1.1950 - acc: 0.5833 - val_loss: 1.3223 - val_acc: 0.5347\n",
            "Epoch 25/64\n",
            "50000/50000 [==============================] - 2s 50us/step - loss: 1.1914 - acc: 0.5838 - val_loss: 1.3491 - val_acc: 0.5245\n",
            "Epoch 26/64\n",
            "50000/50000 [==============================] - 3s 51us/step - loss: 1.1820 - acc: 0.5892 - val_loss: 1.3507 - val_acc: 0.5245\n",
            "Epoch 27/64\n",
            "50000/50000 [==============================] - 3s 50us/step - loss: 1.1753 - acc: 0.5910 - val_loss: 1.3336 - val_acc: 0.5303\n",
            "Epoch 28/64\n",
            "50000/50000 [==============================] - 2s 50us/step - loss: 1.1653 - acc: 0.5921 - val_loss: 1.4419 - val_acc: 0.5069\n",
            "Epoch 29/64\n",
            "50000/50000 [==============================] - 3s 50us/step - loss: 1.1599 - acc: 0.5944 - val_loss: 1.3404 - val_acc: 0.5314\n",
            "Epoch 30/64\n",
            "50000/50000 [==============================] - 3s 50us/step - loss: 1.1526 - acc: 0.5981 - val_loss: 1.4298 - val_acc: 0.5081\n",
            "Epoch 31/64\n",
            "50000/50000 [==============================] - 2s 50us/step - loss: 1.1470 - acc: 0.5986 - val_loss: 1.3557 - val_acc: 0.5294\n",
            "Epoch 32/64\n",
            "50000/50000 [==============================] - 2s 50us/step - loss: 1.1432 - acc: 0.6018 - val_loss: 1.3402 - val_acc: 0.5291\n",
            "Epoch 33/64\n",
            "50000/50000 [==============================] - 2s 50us/step - loss: 1.1368 - acc: 0.6036 - val_loss: 1.4090 - val_acc: 0.5090\n",
            "Epoch 34/64\n",
            "50000/50000 [==============================] - 3s 50us/step - loss: 1.1306 - acc: 0.6054 - val_loss: 1.5225 - val_acc: 0.4873\n",
            "Epoch 35/64\n",
            "50000/50000 [==============================] - 3s 50us/step - loss: 1.1244 - acc: 0.6076 - val_loss: 1.3504 - val_acc: 0.5253\n",
            "Epoch 36/64\n",
            "50000/50000 [==============================] - 3s 50us/step - loss: 1.1228 - acc: 0.6086 - val_loss: 1.3324 - val_acc: 0.5366\n",
            "Epoch 37/64\n",
            "50000/50000 [==============================] - 3s 50us/step - loss: 1.1145 - acc: 0.6110 - val_loss: 1.4302 - val_acc: 0.5092\n",
            "Epoch 38/64\n",
            "50000/50000 [==============================] - 3s 51us/step - loss: 1.1108 - acc: 0.6146 - val_loss: 1.3481 - val_acc: 0.5292\n",
            "Epoch 39/64\n",
            "50000/50000 [==============================] - 3s 51us/step - loss: 1.1051 - acc: 0.6148 - val_loss: 1.3604 - val_acc: 0.5240\n",
            "Epoch 40/64\n",
            "50000/50000 [==============================] - 3s 50us/step - loss: 1.1016 - acc: 0.6154 - val_loss: 1.3836 - val_acc: 0.5206\n",
            "Epoch 41/64\n",
            "50000/50000 [==============================] - 3s 50us/step - loss: 1.0970 - acc: 0.6169 - val_loss: 1.4233 - val_acc: 0.5113\n",
            "Epoch 42/64\n",
            "50000/50000 [==============================] - 2s 50us/step - loss: 1.0924 - acc: 0.6192 - val_loss: 1.4254 - val_acc: 0.5047\n",
            "Epoch 43/64\n",
            "50000/50000 [==============================] - 2s 49us/step - loss: 1.0885 - acc: 0.6231 - val_loss: 1.3666 - val_acc: 0.5276\n",
            "Epoch 44/64\n",
            "50000/50000 [==============================] - 2s 50us/step - loss: 1.0813 - acc: 0.6228 - val_loss: 1.5067 - val_acc: 0.4996\n",
            "Epoch 45/64\n",
            "50000/50000 [==============================] - 2s 49us/step - loss: 1.0791 - acc: 0.6236 - val_loss: 1.3941 - val_acc: 0.5188\n",
            "Epoch 46/64\n",
            "50000/50000 [==============================] - 3s 50us/step - loss: 1.0745 - acc: 0.6270 - val_loss: 1.3611 - val_acc: 0.5268\n",
            "Epoch 47/64\n",
            "50000/50000 [==============================] - 3s 51us/step - loss: 1.0706 - acc: 0.6262 - val_loss: 1.3626 - val_acc: 0.5301\n",
            "Epoch 48/64\n",
            "50000/50000 [==============================] - 2s 50us/step - loss: 1.0678 - acc: 0.6296 - val_loss: 1.3656 - val_acc: 0.5323\n",
            "Epoch 49/64\n",
            "50000/50000 [==============================] - 2s 50us/step - loss: 1.0655 - acc: 0.6284 - val_loss: 1.4137 - val_acc: 0.5172\n",
            "Epoch 50/64\n",
            "50000/50000 [==============================] - 3s 55us/step - loss: 1.0593 - acc: 0.6331 - val_loss: 1.3821 - val_acc: 0.5188\n",
            "Epoch 51/64\n",
            "50000/50000 [==============================] - 3s 58us/step - loss: 1.0594 - acc: 0.6311 - val_loss: 1.3711 - val_acc: 0.5271\n",
            "Epoch 52/64\n",
            "50000/50000 [==============================] - 3s 58us/step - loss: 1.0531 - acc: 0.6332 - val_loss: 1.5588 - val_acc: 0.4958\n",
            "Epoch 53/64\n",
            "50000/50000 [==============================] - 3s 58us/step - loss: 1.0498 - acc: 0.6349 - val_loss: 1.3715 - val_acc: 0.5300\n",
            "Epoch 54/64\n",
            "50000/50000 [==============================] - 3s 57us/step - loss: 1.0502 - acc: 0.6333 - val_loss: 1.4129 - val_acc: 0.5201\n",
            "Epoch 55/64\n",
            "50000/50000 [==============================] - 2s 50us/step - loss: 1.0413 - acc: 0.6371 - val_loss: 1.4089 - val_acc: 0.5220\n",
            "Epoch 56/64\n",
            "50000/50000 [==============================] - 2s 50us/step - loss: 1.0410 - acc: 0.6389 - val_loss: 1.4136 - val_acc: 0.5230\n",
            "Epoch 57/64\n",
            "50000/50000 [==============================] - 2s 50us/step - loss: 1.0361 - acc: 0.6414 - val_loss: 1.3953 - val_acc: 0.5239\n",
            "Epoch 58/64\n",
            "50000/50000 [==============================] - 3s 50us/step - loss: 1.0348 - acc: 0.6395 - val_loss: 1.5092 - val_acc: 0.4995\n",
            "Epoch 59/64\n",
            "50000/50000 [==============================] - 2s 50us/step - loss: 1.0308 - acc: 0.6419 - val_loss: 1.4114 - val_acc: 0.5167\n",
            "Epoch 60/64\n",
            "50000/50000 [==============================] - 2s 49us/step - loss: 1.0293 - acc: 0.6412 - val_loss: 1.4730 - val_acc: 0.5089\n",
            "Epoch 61/64\n",
            "50000/50000 [==============================] - 2s 49us/step - loss: 1.0258 - acc: 0.6433 - val_loss: 1.4112 - val_acc: 0.5159\n",
            "Epoch 62/64\n",
            "50000/50000 [==============================] - 3s 54us/step - loss: 1.0237 - acc: 0.6439 - val_loss: 1.4050 - val_acc: 0.5250\n",
            "Epoch 63/64\n",
            "50000/50000 [==============================] - 3s 58us/step - loss: 1.0198 - acc: 0.6443 - val_loss: 1.4192 - val_acc: 0.5220\n",
            "Epoch 64/64\n",
            "50000/50000 [==============================] - 3s 59us/step - loss: 1.0186 - acc: 0.6463 - val_loss: 1.4182 - val_acc: 0.5254\n"
          ],
          "name": "stdout"
        }
      ]
    },
    {
      "metadata": {
        "id": "9hrDQaIhtwqN",
        "colab_type": "code",
        "colab": {
          "base_uri": "https://localhost:8080/",
          "height": 295
        },
        "outputId": "6d00559a-b3de-4ede-cdce-e3ffcfe27ddf"
      },
      "cell_type": "code",
      "source": [
        "plt.plot(history.history['acc'])\n",
        "plt.plot(history.history['val_acc'])\n",
        "plt.title('model accuracy')\n",
        "plt.ylabel('accuracy')\n",
        "plt.xlabel('epoch')\n",
        "plt.legend(['train', 'test'], loc='upper left')\n",
        "plt.show()"
      ],
      "execution_count": 7,
      "outputs": [
        {
          "output_type": "display_data",
          "data": {
            "image/png": "[encoded data removed]",
            "text/plain": [
              "<Figure size 432x288 with 1 Axes>"
            ]
          },
          "metadata": {
            "tags": []
          }
        }
      ]
    },
    {
      "metadata": {
        "id": "BWKwZotEt_Cz",
        "colab_type": "text"
      },
      "cell_type": "markdown",
      "source": [
        "## Method2: Use the VGG16 'Convolutional Base'"
      ]
    },
    {
      "metadata": {
        "id": "QC_hYwl1D8nL",
        "colab_type": "code",
        "colab": {}
      },
      "cell_type": "code",
      "source": [
        "from keras.applications import VGG16\n",
        "conv_base = VGG16(weights='imagenet', include_top=False, input_shape=(32, 32, 3))"
      ],
      "execution_count": 0,
      "outputs": []
    },
    {
      "metadata": {
        "id": "5xYF5nyEEEAC",
        "colab_type": "code",
        "outputId": "89f7c5bd-8351-4d34-d19e-b362405c5f1f",
        "colab": {
          "base_uri": "https://localhost:8080/",
          "height": 782
        }
      },
      "cell_type": "code",
      "source": [
        "conv_base.summary()"
      ],
      "execution_count": 9,
      "outputs": [
        {
          "output_type": "stream",
          "text": [
            "_________________________________________________________________\n",
            "Layer (type)                 Output Shape              Param #   \n",
            "=================================================================\n",
            "input_1 (InputLayer)         (None, 32, 32, 3)         0         \n",
            "_________________________________________________________________\n",
            "block1_conv1 (Conv2D)        (None, 32, 32, 64)        1792      \n",
            "_________________________________________________________________\n",
            "block1_conv2 (Conv2D)        (None, 32, 32, 64)        36928     \n",
            "_________________________________________________________________\n",
            "block1_pool (MaxPooling2D)   (None, 16, 16, 64)        0         \n",
            "_________________________________________________________________\n",
            "block2_conv1 (Conv2D)        (None, 16, 16, 128)       73856     \n",
            "_________________________________________________________________\n",
            "block2_conv2 (Conv2D)        (None, 16, 16, 128)       147584    \n",
            "_________________________________________________________________\n",
            "block2_pool (MaxPooling2D)   (None, 8, 8, 128)         0         \n",
            "_________________________________________________________________\n",
            "block3_conv1 (Conv2D)        (None, 8, 8, 256)         295168    \n",
            "_________________________________________________________________\n",
            "block3_conv2 (Conv2D)        (None, 8, 8, 256)         590080    \n",
            "_________________________________________________________________\n",
            "block3_conv3 (Conv2D)        (None, 8, 8, 256)         590080    \n",
            "_________________________________________________________________\n",
            "block3_pool (MaxPooling2D)   (None, 4, 4, 256)         0         \n",
            "_________________________________________________________________\n",
            "block4_conv1 (Conv2D)        (None, 4, 4, 512)         1180160   \n",
            "_________________________________________________________________\n",
            "block4_conv2 (Conv2D)        (None, 4, 4, 512)         2359808   \n",
            "_________________________________________________________________\n",
            "block4_conv3 (Conv2D)        (None, 4, 4, 512)         2359808   \n",
            "_________________________________________________________________\n",
            "block4_pool (MaxPooling2D)   (None, 2, 2, 512)         0         \n",
            "_________________________________________________________________\n",
            "block5_conv1 (Conv2D)        (None, 2, 2, 512)         2359808   \n",
            "_________________________________________________________________\n",
            "block5_conv2 (Conv2D)        (None, 2, 2, 512)         2359808   \n",
            "_________________________________________________________________\n",
            "block5_conv3 (Conv2D)        (None, 2, 2, 512)         2359808   \n",
            "_________________________________________________________________\n",
            "block5_pool (MaxPooling2D)   (None, 1, 1, 512)         0         \n",
            "=================================================================\n",
            "Total params: 14,714,688\n",
            "Trainable params: 14,714,688\n",
            "Non-trainable params: 0\n",
            "_________________________________________________________________\n"
          ],
          "name": "stdout"
        }
      ]
    },
    {
      "metadata": {
        "id": "mbVS6IsFEO5K",
        "colab_type": "code",
        "outputId": "013b4cbe-7893-4ef7-db1c-a7e22f3f3b5c",
        "colab": {
          "base_uri": "https://localhost:8080/",
          "height": 51
        }
      },
      "cell_type": "code",
      "source": [
        "x_test_vgg_output = conv_base.predict(x_test, verbose = 1)\n",
        "x_train_vgg_output = conv_base.predict(x_train, verbose = 1)"
      ],
      "execution_count": 10,
      "outputs": [
        {
          "output_type": "stream",
          "text": [
            "10000/10000 [==============================] - 3s 316us/step\n",
            "50000/50000 [==============================] - 13s 260us/step\n"
          ],
          "name": "stdout"
        }
      ]
    },
    {
      "metadata": {
        "id": "_pmzwNhiP6nw",
        "colab_type": "code",
        "outputId": "a1e7acdb-9fd1-4761-cbb0-d781d1ade84f",
        "colab": {
          "base_uri": "https://localhost:8080/",
          "height": 51
        }
      },
      "cell_type": "code",
      "source": [
        "print(x_test_vgg_output.shape)\n",
        "print(x_train_vgg_output.shape)"
      ],
      "execution_count": 11,
      "outputs": [
        {
          "output_type": "stream",
          "text": [
            "(10000, 1, 1, 512)\n",
            "(50000, 1, 1, 512)\n"
          ],
          "name": "stdout"
        }
      ]
    },
    {
      "metadata": {
        "id": "SS6WrjitQpIe",
        "colab_type": "code",
        "colab": {}
      },
      "cell_type": "code",
      "source": [
        "import numpy as np\n",
        "x_test_new = np.reshape(x_test_vgg_output, (10000, 1 * 1 * 512))\n",
        "x_train_new = np.reshape(x_train_vgg_output, (50000, 1 * 1 * 512))"
      ],
      "execution_count": 0,
      "outputs": []
    },
    {
      "metadata": {
        "id": "i_HfvEHcQqpg",
        "colab_type": "code",
        "outputId": "4282aa2e-dccd-42a2-d337-ba9e660ca9b5",
        "colab": {
          "base_uri": "https://localhost:8080/",
          "height": 51
        }
      },
      "cell_type": "code",
      "source": [
        "print(x_test_new.shape)\n",
        "print(x_train_new.shape)"
      ],
      "execution_count": 13,
      "outputs": [
        {
          "output_type": "stream",
          "text": [
            "(10000, 512)\n",
            "(50000, 512)\n"
          ],
          "name": "stdout"
        }
      ]
    },
    {
      "metadata": {
        "id": "rX_jl4cHPzwb",
        "colab_type": "code",
        "outputId": "8fed13f3-45af-416d-9ee5-faafd31fe2df",
        "colab": {
          "base_uri": "https://localhost:8080/",
          "height": 2281
        }
      },
      "cell_type": "code",
      "source": [
        "from keras import models\n",
        "from keras import layers\n",
        "from keras import optimizers\n",
        "\n",
        "model = models.Sequential()\n",
        "model.add(layers.Dense(256, activation='relu', input_dim = 1 * 1 * 512))\n",
        "model.add(layers.Dropout(0.5))\n",
        "model.add(layers.Dense(10, activation='sigmoid'))\n",
        "\n",
        "model.compile(optimizer='rmsprop', loss='binary_crossentropy', metrics=['acc'])\n",
        "history = model.fit(x_train_new, train_labels, epochs=64, batch_size=128, validation_data = (x_test_new, test_labels))"
      ],
      "execution_count": 14,
      "outputs": [
        {
          "output_type": "stream",
          "text": [
            "WARNING:tensorflow:From /usr/local/lib/python3.6/dist-packages/keras/backend/tensorflow_backend.py:3445: calling dropout (from tensorflow.python.ops.nn_ops) with keep_prob is deprecated and will be removed in a future version.\n",
            "Instructions for updating:\n",
            "Please use `rate` instead of `keep_prob`. Rate should be set to `rate = 1 - keep_prob`.\n",
            "Train on 50000 samples, validate on 10000 samples\n",
            "Epoch 1/64\n",
            "50000/50000 [==============================] - 1s 28us/step - loss: 0.6576 - acc: 0.8882 - val_loss: 0.2280 - val_acc: 0.9169\n",
            "Epoch 2/64\n",
            "50000/50000 [==============================] - 1s 24us/step - loss: 0.2450 - acc: 0.9140 - val_loss: 0.2067 - val_acc: 0.9230\n",
            "Epoch 3/64\n",
            "50000/50000 [==============================] - 1s 24us/step - loss: 0.2253 - acc: 0.9204 - val_loss: 0.2014 - val_acc: 0.9255\n",
            "Epoch 4/64\n",
            "50000/50000 [==============================] - 1s 24us/step - loss: 0.2167 - acc: 0.9227 - val_loss: 0.2026 - val_acc: 0.9269\n",
            "Epoch 5/64\n",
            "50000/50000 [==============================] - 1s 24us/step - loss: 0.2111 - acc: 0.9257 - val_loss: 0.2010 - val_acc: 0.9280\n",
            "Epoch 6/64\n",
            "50000/50000 [==============================] - 1s 24us/step - loss: 0.2070 - acc: 0.9272 - val_loss: 0.2015 - val_acc: 0.9279\n",
            "Epoch 7/64\n",
            "50000/50000 [==============================] - 1s 24us/step - loss: 0.2060 - acc: 0.9279 - val_loss: 0.2026 - val_acc: 0.9294\n",
            "Epoch 8/64\n",
            "50000/50000 [==============================] - 1s 24us/step - loss: 0.2045 - acc: 0.9282 - val_loss: 0.2089 - val_acc: 0.9285\n",
            "Epoch 9/64\n",
            "50000/50000 [==============================] - 1s 24us/step - loss: 0.2031 - acc: 0.9292 - val_loss: 0.2101 - val_acc: 0.9290\n",
            "Epoch 10/64\n",
            "50000/50000 [==============================] - 1s 24us/step - loss: 0.2020 - acc: 0.9296 - val_loss: 0.2175 - val_acc: 0.9287\n",
            "Epoch 11/64\n",
            "50000/50000 [==============================] - 1s 24us/step - loss: 0.2015 - acc: 0.9303 - val_loss: 0.2179 - val_acc: 0.9287\n",
            "Epoch 12/64\n",
            "50000/50000 [==============================] - 1s 24us/step - loss: 0.2026 - acc: 0.9302 - val_loss: 0.2215 - val_acc: 0.9284\n",
            "Epoch 13/64\n",
            "50000/50000 [==============================] - 1s 24us/step - loss: 0.2019 - acc: 0.9306 - val_loss: 0.2253 - val_acc: 0.9284\n",
            "Epoch 14/64\n",
            "50000/50000 [==============================] - 1s 24us/step - loss: 0.2017 - acc: 0.9308 - val_loss: 0.2273 - val_acc: 0.9281\n",
            "Epoch 15/64\n",
            "50000/50000 [==============================] - 1s 24us/step - loss: 0.2027 - acc: 0.9305 - val_loss: 0.2307 - val_acc: 0.9280\n",
            "Epoch 16/64\n",
            "50000/50000 [==============================] - 1s 24us/step - loss: 0.2023 - acc: 0.9311 - val_loss: 0.2371 - val_acc: 0.9279\n",
            "Epoch 17/64\n",
            "50000/50000 [==============================] - 1s 24us/step - loss: 0.2022 - acc: 0.9308 - val_loss: 0.2354 - val_acc: 0.9284\n",
            "Epoch 18/64\n",
            "50000/50000 [==============================] - 1s 24us/step - loss: 0.2018 - acc: 0.9315 - val_loss: 0.2458 - val_acc: 0.9277\n",
            "Epoch 19/64\n",
            "50000/50000 [==============================] - 1s 24us/step - loss: 0.2032 - acc: 0.9313 - val_loss: 0.2389 - val_acc: 0.9287\n",
            "Epoch 20/64\n",
            "50000/50000 [==============================] - 1s 24us/step - loss: 0.2018 - acc: 0.9319 - val_loss: 0.2458 - val_acc: 0.9286\n",
            "Epoch 21/64\n",
            "50000/50000 [==============================] - 1s 24us/step - loss: 0.2020 - acc: 0.9316 - val_loss: 0.2496 - val_acc: 0.9292\n",
            "Epoch 22/64\n",
            "50000/50000 [==============================] - 1s 23us/step - loss: 0.2021 - acc: 0.9320 - val_loss: 0.2490 - val_acc: 0.9278\n",
            "Epoch 23/64\n",
            "50000/50000 [==============================] - 1s 27us/step - loss: 0.2040 - acc: 0.9318 - val_loss: 0.2563 - val_acc: 0.9279\n",
            "Epoch 24/64\n",
            "50000/50000 [==============================] - 1s 27us/step - loss: 0.2043 - acc: 0.9319 - val_loss: 0.2560 - val_acc: 0.9282\n",
            "Epoch 25/64\n",
            "50000/50000 [==============================] - 1s 27us/step - loss: 0.2031 - acc: 0.9323 - val_loss: 0.2618 - val_acc: 0.9275\n",
            "Epoch 26/64\n",
            "50000/50000 [==============================] - 1s 27us/step - loss: 0.2051 - acc: 0.9322 - val_loss: 0.2645 - val_acc: 0.9273\n",
            "Epoch 27/64\n",
            "50000/50000 [==============================] - 1s 27us/step - loss: 0.2060 - acc: 0.9320 - val_loss: 0.2607 - val_acc: 0.9272\n",
            "Epoch 28/64\n",
            "50000/50000 [==============================] - 1s 27us/step - loss: 0.2041 - acc: 0.9322 - val_loss: 0.2657 - val_acc: 0.9273\n",
            "Epoch 29/64\n",
            "50000/50000 [==============================] - 1s 27us/step - loss: 0.2053 - acc: 0.9320 - val_loss: 0.2678 - val_acc: 0.9271\n",
            "Epoch 30/64\n",
            "50000/50000 [==============================] - 1s 25us/step - loss: 0.2032 - acc: 0.9325 - val_loss: 0.2715 - val_acc: 0.9273\n",
            "Epoch 31/64\n",
            "50000/50000 [==============================] - 1s 24us/step - loss: 0.2052 - acc: 0.9324 - val_loss: 0.2745 - val_acc: 0.9267\n",
            "Epoch 32/64\n",
            "50000/50000 [==============================] - 1s 24us/step - loss: 0.2054 - acc: 0.9322 - val_loss: 0.2735 - val_acc: 0.9269\n",
            "Epoch 33/64\n",
            "50000/50000 [==============================] - 1s 24us/step - loss: 0.2063 - acc: 0.9325 - val_loss: 0.2749 - val_acc: 0.9269\n",
            "Epoch 34/64\n",
            "50000/50000 [==============================] - 1s 24us/step - loss: 0.2070 - acc: 0.9321 - val_loss: 0.2827 - val_acc: 0.9273\n",
            "Epoch 35/64\n",
            "50000/50000 [==============================] - 1s 24us/step - loss: 0.2059 - acc: 0.9324 - val_loss: 0.2810 - val_acc: 0.9276\n",
            "Epoch 36/64\n",
            "50000/50000 [==============================] - 1s 24us/step - loss: 0.2064 - acc: 0.9324 - val_loss: 0.2810 - val_acc: 0.9275\n",
            "Epoch 37/64\n",
            "50000/50000 [==============================] - 1s 24us/step - loss: 0.2072 - acc: 0.9324 - val_loss: 0.2845 - val_acc: 0.9280\n",
            "Epoch 38/64\n",
            "50000/50000 [==============================] - 1s 24us/step - loss: 0.2080 - acc: 0.9326 - val_loss: 0.2863 - val_acc: 0.9285\n",
            "Epoch 39/64\n",
            "50000/50000 [==============================] - 1s 24us/step - loss: 0.2072 - acc: 0.9328 - val_loss: 0.2892 - val_acc: 0.9265\n",
            "Epoch 40/64\n",
            "50000/50000 [==============================] - 1s 24us/step - loss: 0.2089 - acc: 0.9324 - val_loss: 0.2869 - val_acc: 0.9266\n",
            "Epoch 41/64\n",
            "50000/50000 [==============================] - 1s 26us/step - loss: 0.2074 - acc: 0.9326 - val_loss: 0.2979 - val_acc: 0.9273\n",
            "Epoch 42/64\n",
            "50000/50000 [==============================] - 1s 24us/step - loss: 0.2093 - acc: 0.9324 - val_loss: 0.2891 - val_acc: 0.9276\n",
            "Epoch 43/64\n",
            "50000/50000 [==============================] - 1s 24us/step - loss: 0.2096 - acc: 0.9324 - val_loss: 0.2919 - val_acc: 0.9274\n",
            "Epoch 44/64\n",
            "50000/50000 [==============================] - 1s 24us/step - loss: 0.2085 - acc: 0.9325 - val_loss: 0.2931 - val_acc: 0.9272\n",
            "Epoch 45/64\n",
            "50000/50000 [==============================] - 1s 24us/step - loss: 0.2093 - acc: 0.9325 - val_loss: 0.2953 - val_acc: 0.9273\n",
            "Epoch 46/64\n",
            "50000/50000 [==============================] - 1s 24us/step - loss: 0.2106 - acc: 0.9325 - val_loss: 0.3040 - val_acc: 0.9268\n",
            "Epoch 47/64\n",
            "50000/50000 [==============================] - 1s 24us/step - loss: 0.2102 - acc: 0.9326 - val_loss: 0.3012 - val_acc: 0.9263\n",
            "Epoch 48/64\n",
            "50000/50000 [==============================] - 1s 24us/step - loss: 0.2111 - acc: 0.9326 - val_loss: 0.3006 - val_acc: 0.9264\n",
            "Epoch 49/64\n",
            "50000/50000 [==============================] - 1s 23us/step - loss: 0.2101 - acc: 0.9327 - val_loss: 0.3015 - val_acc: 0.9271\n",
            "Epoch 50/64\n",
            "50000/50000 [==============================] - 1s 24us/step - loss: 0.2101 - acc: 0.9329 - val_loss: 0.3055 - val_acc: 0.9275\n",
            "Epoch 51/64\n",
            "50000/50000 [==============================] - 1s 23us/step - loss: 0.2108 - acc: 0.9328 - val_loss: 0.3036 - val_acc: 0.9254\n",
            "Epoch 52/64\n",
            "50000/50000 [==============================] - 1s 24us/step - loss: 0.2110 - acc: 0.9324 - val_loss: 0.3073 - val_acc: 0.9265\n",
            "Epoch 53/64\n",
            "50000/50000 [==============================] - 1s 24us/step - loss: 0.2108 - acc: 0.9327 - val_loss: 0.3087 - val_acc: 0.9268\n",
            "Epoch 54/64\n",
            "50000/50000 [==============================] - 1s 24us/step - loss: 0.2123 - acc: 0.9324 - val_loss: 0.3090 - val_acc: 0.9264\n",
            "Epoch 55/64\n",
            "50000/50000 [==============================] - 1s 24us/step - loss: 0.2108 - acc: 0.9325 - val_loss: 0.3117 - val_acc: 0.9268\n",
            "Epoch 56/64\n",
            "50000/50000 [==============================] - 1s 24us/step - loss: 0.2102 - acc: 0.9330 - val_loss: 0.3126 - val_acc: 0.9269\n",
            "Epoch 57/64\n",
            "50000/50000 [==============================] - 1s 24us/step - loss: 0.2120 - acc: 0.9330 - val_loss: 0.3123 - val_acc: 0.9273\n",
            "Epoch 58/64\n",
            "50000/50000 [==============================] - 1s 24us/step - loss: 0.2113 - acc: 0.9325 - val_loss: 0.3130 - val_acc: 0.9268\n",
            "Epoch 59/64\n",
            "50000/50000 [==============================] - 1s 24us/step - loss: 0.2116 - acc: 0.9330 - val_loss: 0.3138 - val_acc: 0.9268\n",
            "Epoch 60/64\n",
            "50000/50000 [==============================] - 1s 24us/step - loss: 0.2120 - acc: 0.9326 - val_loss: 0.3173 - val_acc: 0.9264\n",
            "Epoch 61/64\n",
            "50000/50000 [==============================] - 1s 24us/step - loss: 0.2136 - acc: 0.9326 - val_loss: 0.3185 - val_acc: 0.9263\n",
            "Epoch 62/64\n",
            "50000/50000 [==============================] - 1s 24us/step - loss: 0.2139 - acc: 0.9327 - val_loss: 0.3182 - val_acc: 0.9265\n",
            "Epoch 63/64\n",
            "50000/50000 [==============================] - 1s 24us/step - loss: 0.2130 - acc: 0.9326 - val_loss: 0.3196 - val_acc: 0.9259\n",
            "Epoch 64/64\n",
            "50000/50000 [==============================] - 1s 24us/step - loss: 0.2120 - acc: 0.9326 - val_loss: 0.3175 - val_acc: 0.9264\n"
          ],
          "name": "stdout"
        }
      ]
    },
    {
      "metadata": {
        "id": "LRCkXcE6s1nX",
        "colab_type": "code",
        "colab": {
          "base_uri": "https://localhost:8080/",
          "height": 295
        },
        "outputId": "8b6afc36-ff2e-4b45-bd4b-c4eaa8e5441d"
      },
      "cell_type": "code",
      "source": [
        "plt.plot(history.history['acc'])\n",
        "plt.plot(history.history['val_acc'])\n",
        "plt.title('model accuracy')\n",
        "plt.ylabel('accuracy')\n",
        "plt.xlabel('epoch')\n",
        "plt.legend(['train', 'test'], loc='upper left')\n",
        "plt.show()"
      ],
      "execution_count": 15,
      "outputs": [
        {
          "output_type": "display_data",
          "data": {
            "image/png": "[encoded data removed]",
            "text/plain": [
              "<Figure size 432x288 with 1 Axes>"
            ]
          },
          "metadata": {
            "tags": []
          }
        }
      ]
    },
    {
      "metadata": {
        "id": "FgoxqULhtOPW",
        "colab_type": "code",
        "colab": {}
      },
      "cell_type": "code",
      "source": [
        ""
      ],
      "execution_count": 0,
      "outputs": []
    }
  ]
}